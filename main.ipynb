{
 "cells": [
  {
   "cell_type": "markdown",
   "metadata": {},
   "source": [
    "With all the hype surrounding Wordle, I wanted to challenge myself to build an optimal wordle solver.\n",
    "\n",
    "I relied on the intuition and information given by the wordle solver videos by youtuber 3Blue1Brown seen [here](https://www.youtube.com/watch?v=v68zYyaEmEA). No code was copied.\n",
    "\n",
    "1. The Challenge\n",
    "- Developing an algorithm that solves Wordle puzzles optimally with three modes:\n",
    "  1. Automatic (computer played games for analysis)\n",
    "  2. Manual (terminal interface for a player) \n",
    "  3. Guide (terminal interface for a player looking for optimal word suggestions for their Wordle game)\n",
    "- Performance is measured by the lowest average number of guesses.\n",
    "\n",
    "2. Gathering the Data\n",
    "\n",
    "- The text file \"wordle_words.txt\" contains the list of human curated words for the official game. \n",
    "- The file \"allowed_guesses.txt\" contains a comprehensive list of five letter words that can be applied as guesses, but most of which will never be used as a puzzle solution. \n",
    "\n",
    "Since I expect this to be computationally demanding, I'll be basing my possible guesses on the official list of answers. This is bound to have an overfitting effect and render the solver inaccurate if the official list changes. The same logic can be applied with an updated official list of answers - but it will require an exhaustive 2-step entropy search to find the most optimal first guess. Regardless, \"salet\" will serve you well if the official list does not steer away from well-understood words (I make the assumption that the expected information potential of this word will more or less be the same based on this 2315 sample being adequately representative of the general list of well known five letter words)."
   ]
  },
  {
   "cell_type": "markdown",
   "metadata": {},
   "source": [
    "3. Word score methodology: applying information theory (entropy).\n",
    "\n",
    "$$ max(E[\\textrm{All Information}]_{w, g}) = max(E[\\textrm{Information}]_{w_{1}, g_{1}} + ... + E[\\textrm{Information}]_{w_{j}, g_{n}})$$\n",
    "\n",
    "where \n",
    "- $w$ - a unique word followed by distinct previous word(s) (if it's not the first word in the chain) \n",
    "- $g$ - guess number \n",
    "- $E[\\textrm{Information}] = \\sum_{x}^{X}p(x) \\cdot log_{2}(1/p(x))$\n",
    "- $X$ - the set of all possible information patterns derived from a specific word\n",
    "- $p(x)$ - the probability of a unique information pattern \n",
    "- $log_{2}(1/p(x))$ - the number of times the word pool of possible answers was cut in half\n",
    "\n",
    "This equation determines the most optimal word to use for a certain guess row based on the expected information \"value\" obtained from a word and its associated possible information patterns. The log portions of the equation measures information as \"bits\" where a single bit is associated with the pool of possible answers being cut into half. \n",
    "\n",
    "We know for a fact that \"salet\" is the optimal first word based on 3Blue1Brown's exhaustive search approach, where\n",
    "\n",
    "Salet resulted in: \n",
    "- 80 two guess answers,\n",
    "- 1,225 three guess answers, \n",
    "- 965 four guess answers, \n",
    "- 45 five guess answers,\n",
    "- and 0 six guess answers \n",
    "\n",
    "Since I'd prefer not to spend the time on the same exhaustive method, I'll be hard-coding salet as my first guess everytime. Every subsequent guess only implements a single step entropy since I assume the quantity of information obtainable after two guesses is negligible (most games are finished within 3 to 4 guesses)."
   ]
  },
  {
   "cell_type": "code",
   "execution_count": 1,
   "metadata": {},
   "outputs": [],
   "source": [
    "from resources.wordle_sim_stats import *\n",
    "\n",
    "ALLOWED_WORDS: set = load_words_from_cwd_folder(folder_name=\"data\", \n",
    "                                        file_name=\"allowed_guesses.txt\")\n",
    "ANSWER_WORDS: set = load_words_from_cwd_folder(folder_name=\"data\", \n",
    "                                        file_name=\"answer_words.txt\")\n",
    "# wordle: Wordle = Wordle(answer_words=ANSWER_WORDS, \n",
    "#                         allowed_words=ALLOWED_WORDS, \n",
    "#                         show_output=False, \n",
    "#                         is_automated=True,\n",
    "#                         use_hints=False)\n",
    "# wordles_sim: SimulateGameStats = SimulateGameStats(wordle)\n",
    "\n",
    "# wordles_sim.simulate_all_games()"
   ]
  },
  {
   "cell_type": "markdown",
   "metadata": {},
   "source": [
    "## Results:\n",
    "\n",
    "1. Automatic Wordle - implemented between solver.py, wordle.py and wordle_sim_stats.py"
   ]
  },
  {
   "cell_type": "code",
   "execution_count": 3,
   "metadata": {},
   "outputs": [
    {
     "name": "stdout",
     "output_type": "stream",
     "text": [
      "---Wordle---\n",
      "The aim of the game is to guess an unknown five-letter word within six guesses.\n",
      "Each guess provides a hint for each letter.\n",
      "- \u001b[32mGreen\u001b[39m indicates an exact letter match at that particular position.\n",
      "- \u001b[33mYellow\u001b[39m indicates that the letter at that position is elsewhere in the answer.\n",
      "- \u001b[47m\u001b[30mGrey\u001b[0m infers that the letter is not found in the answer.\n",
      "\n",
      "1: \u001b[47m\u001b[30ms\u001b[0m\u001b[47m\u001b[30ma\u001b[0m\u001b[33ml\u001b[39m\u001b[33me\u001b[39m\u001b[47m\u001b[30mt\u001b[0m\n",
      "2: \u001b[47m\u001b[30mb\u001b[0m\u001b[47m\u001b[30mi\u001b[0m\u001b[47m\u001b[30mr\u001b[0m\u001b[32ml\u001b[39m\u001b[32me\u001b[39m\n",
      "3: \u001b[47m\u001b[30mc\u001b[0m\u001b[47m\u001b[30my\u001b[0m\u001b[47m\u001b[30mc\u001b[0m\u001b[32ml\u001b[39m\u001b[32me\u001b[39m\n",
      "4: \u001b[32mw\u001b[39m\u001b[32mh\u001b[39m\u001b[32mo\u001b[39m\u001b[32ml\u001b[39m\u001b[32me\u001b[39m\n",
      "You won!\n"
     ]
    }
   ],
   "source": [
    "# automatic by setting is_automated to true\n",
    "wordle: Wordle = Wordle(answer_words=ANSWER_WORDS, \n",
    "                        allowed_words=ALLOWED_WORDS, \n",
    "                        show_output=True, \n",
    "                        is_automated=True,\n",
    "                        use_hints=False)\n",
    "wordle.play()"
   ]
  },
  {
   "cell_type": "markdown",
   "metadata": {},
   "source": [
    "2. Manual (terminal player interface) - implemented in wordle.py"
   ]
  },
  {
   "cell_type": "code",
   "execution_count": 4,
   "metadata": {},
   "outputs": [
    {
     "name": "stdout",
     "output_type": "stream",
     "text": [
      "---Wordle---\n",
      "The aim of the game is to guess an unknown five-letter word within six guesses.\n",
      "Each guess provides a hint for each letter.\n",
      "- \u001b[32mGreen\u001b[39m indicates an exact letter match at that particular position.\n",
      "- \u001b[33mYellow\u001b[39m indicates that the letter at that position is elsewhere in the answer.\n",
      "- \u001b[47m\u001b[30mGrey\u001b[0m infers that the letter is not found in the answer.\n",
      "\n",
      "1: \u001b[47m\u001b[30ms\u001b[0m\u001b[33ma\u001b[39m\u001b[32ml\u001b[39m\u001b[47m\u001b[30me\u001b[0m\u001b[47m\u001b[30mt\u001b[0m\n",
      "hints: alloy, polka, bylaw, molar, allay, villa, polar, aglow, allow, lilac\n",
      "2: \u001b[33ma\u001b[39ml\u001b[32ml\u001b[39m\u001b[33mo\u001b[39m\u001b[47m\u001b[30my\u001b[0m\n",
      "hints: polka, molar, polar\n",
      "Invalid input. Use a valid lowercase five letter word.\n",
      "3: \u001b[47m\u001b[30mp\u001b[0m\u001b[32mo\u001b[39m\u001b[32ml\u001b[39m\u001b[47m\u001b[30mk\u001b[0m\u001b[33ma\u001b[39m\n",
      "hint: molar\n",
      "4: \u001b[32mm\u001b[39m\u001b[32mo\u001b[39m\u001b[32ml\u001b[39m\u001b[32ma\u001b[39m\u001b[32mr\u001b[39m\n",
      "You won!\n"
     ]
    }
   ],
   "source": [
    "# manual when is_automated is disabled\n",
    "# the use_hints setting outputs usable words as potential answers when enabled\n",
    "wordle: Wordle = Wordle(answer_words=ANSWER_WORDS, \n",
    "                        allowed_words=ALLOWED_WORDS, \n",
    "                        show_output=True, \n",
    "                        is_automated=False,\n",
    "                        use_hints=True)\n",
    "wordle.play()"
   ]
  },
  {
   "cell_type": "markdown",
   "metadata": {},
   "source": [
    "3. Guide (terminal interface for a player looking for optimal word suggestions for their external Wordle game)"
   ]
  },
  {
   "cell_type": "code",
   "execution_count": 5,
   "metadata": {},
   "outputs": [
    {
     "name": "stdout",
     "output_type": "stream",
     "text": [
      "---Wordle---\n",
      "The aim of the game is to guess an unknown five-letter word within six guesses.\n",
      "Each guess provides a hint for each letter.\n",
      "- \u001b[32mGreen\u001b[39m indicates an exact letter match at that particular position.\n",
      "- \u001b[33mYellow\u001b[39m indicates that the letter at that position is elsewhere in the answer.\n",
      "- \u001b[47m\u001b[30mGrey\u001b[0m infers that the letter is not found in the answer.\n",
      "\n",
      "Follow the prompts to find an optimal word for your active wordle.\n",
      "g = green, _ = grey, y = yellow, / = grey at index only\n",
      "\n",
      "1: \u001b[47m\u001b[30ms\u001b[0m\u001b[33ma\u001b[39m\u001b[47m\u001b[30ml\u001b[0m\u001b[33me\u001b[39m\u001b[47m\u001b[30mt\u001b[0m\n",
      "Calculating...\n"
     ]
    },
    {
     "name": "stderr",
     "output_type": "stream",
     "text": [
      "100%|██████████| 3814/3814 [02:43<00:00, 23.36it/s]"
     ]
    },
    {
     "name": "stdout",
     "output_type": "stream",
     "text": [
      "Try 'beard' for your next guess\n"
     ]
    },
    {
     "name": "stderr",
     "output_type": "stream",
     "text": [
      "\n"
     ]
    },
    {
     "name": "stdout",
     "output_type": "stream",
     "text": [
      "2: \u001b[47m\u001b[30mb\u001b[0m\u001b[33me\u001b[39m\u001b[33ma\u001b[39m\u001b[47m\u001b[30mr\u001b[0m\u001b[32md\u001b[39m\n",
      "Calculating...\n"
     ]
    },
    {
     "name": "stderr",
     "output_type": "stream",
     "text": [
      "100%|██████████| 1836/1836 [00:03<00:00, 606.34it/s]"
     ]
    },
    {
     "name": "stdout",
     "output_type": "stream",
     "text": [
      "Try 'ahead' for your next guess\n"
     ]
    },
    {
     "name": "stderr",
     "output_type": "stream",
     "text": [
      "\n"
     ]
    },
    {
     "name": "stdout",
     "output_type": "stream",
     "text": [
      "3: \u001b[32ma\u001b[39m\u001b[32mh\u001b[39m\u001b[32me\u001b[39m\u001b[32ma\u001b[39m\u001b[32md\u001b[39m\n",
      "Game Over!\n"
     ]
    }
   ],
   "source": [
    "# the initial settings are insignificant for this class method\n",
    "wordle: Wordle = Wordle(answer_words=ANSWER_WORDS, \n",
    "                        allowed_words=ALLOWED_WORDS)\n",
    "wordle.solve_active_wordle(n_guesses_so_far=1)"
   ]
  }
 ],
 "metadata": {
  "interpreter": {
   "hash": "bbeda53f06477c8bfc07941be655ad07af7d66028449f32b9b352cc061e4857d"
  },
  "kernelspec": {
   "display_name": "Python 3.8.12 64-bit ('geopandas compatible': conda)",
   "language": "python",
   "name": "python3"
  },
  "language_info": {
   "codemirror_mode": {
    "name": "ipython",
    "version": 3
   },
   "file_extension": ".py",
   "mimetype": "text/x-python",
   "name": "python",
   "nbconvert_exporter": "python",
   "pygments_lexer": "ipython3",
   "version": "3.8.12"
  },
  "orig_nbformat": 4
 },
 "nbformat": 4,
 "nbformat_minor": 2
}
